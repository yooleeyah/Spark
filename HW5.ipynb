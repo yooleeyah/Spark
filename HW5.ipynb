{
 "cells": [
  {
   "cell_type": "code",
   "execution_count": 1,
   "id": "5c67cefd-4d67-47c7-a479-7e5a09df33a8",
   "metadata": {},
   "outputs": [
    {
     "data": {
      "text/plain": [
       "Intitializing Scala interpreter ..."
      ]
     },
     "metadata": {},
     "output_type": "display_data"
    },
    {
     "data": {
      "text/plain": [
       "Spark Web UI available at http://192.168.0.100:4040\n",
       "SparkContext available as 'sc' (version = 3.2.4, master = local[*], app id = local-1714500822018)\n",
       "SparkSession available as 'spark'\n"
      ]
     },
     "metadata": {},
     "output_type": "display_data"
    },
    {
     "data": {
      "text/plain": [
       "import org.apache.spark.sql.SparkSession\r\n"
      ]
     },
     "execution_count": 1,
     "metadata": {},
     "output_type": "execute_result"
    }
   ],
   "source": [
    "import org.apache.spark.sql.SparkSession"
   ]
  },
  {
   "cell_type": "code",
   "execution_count": 2,
   "id": "8ef7d96e-d96d-4434-8f72-61f0117ff5ef",
   "metadata": {},
   "outputs": [
    {
     "data": {
      "text/plain": [
       "spark: org.apache.spark.sql.SparkSession = org.apache.spark.sql.SparkSession@4308dada\r\n"
      ]
     },
     "execution_count": 2,
     "metadata": {},
     "output_type": "execute_result"
    }
   ],
   "source": [
    "val spark = SparkSession.builder()\n",
    "    .appName(\"HW5\")\n",
    "    .master(\"local[*]\")\n",
    "    .getOrCreate()"
   ]
  },
  {
   "cell_type": "code",
   "execution_count": 3,
   "id": "f0551f68-38a6-435c-b7f1-d3f20ea04ca0",
   "metadata": {},
   "outputs": [
    {
     "data": {
      "text/plain": [
       "dfCsv: org.apache.spark.sql.DataFrame = [title: string, author: string ... 3 more fields]\r\n"
      ]
     },
     "execution_count": 3,
     "metadata": {},
     "output_type": "execute_result"
    }
   ],
   "source": [
    "val dfCsv = spark.read.format(\"csv\").option(\"header\", \"true\").option(\"inferSchema\", \"true\").load(\"hw5.csv\")"
   ]
  },
  {
   "cell_type": "code",
   "execution_count": 12,
   "id": "ffd27e3f-c8ab-4ca6-a9be-e32a04f6e2bb",
   "metadata": {},
   "outputs": [
    {
     "name": "stdout",
     "output_type": "stream",
     "text": [
      "+--------------------+--------------------+--------------------+------+-----------+\n",
      "|               title|              author|               genre| sales|  year;;;;;|\n",
      "+--------------------+--------------------+--------------------+------+-----------+\n",
      "|           \"\"\"1984\"\"|   \"\"George Orwell\"\"| \"\"Science Fiction\"\"|5000.0| 1949\";;;;;|\n",
      "|\"\"\"The Lord of th...|  \"\"J.R.R. Tolkien\"\"|         \"\"Fantasy\"\"|3000.0| 1954\";;;;;|\n",
      "|\"\"\"To Kill a Mock...|      \"\"Harper Lee\"\"| \"\"Southern Gothic\"\"|4000.0| 1960\";;;;;|\n",
      "|\"\"\"The Catcher in...|   \"\"J.D. Salinger\"\"|           \"\"Novel\"\"|2000.0| 1951\";;;;;|\n",
      "|\"\"\"The Great Gats...| \"\"F. Scott Fitzg...|           \"\"Novel\"\"|4500.0| 1925\";;;;;|\n",
      "+--------------------+--------------------+--------------------+------+-----------+\n",
      "\n"
     ]
    }
   ],
   "source": [
    "dfCsv.show()"
   ]
  },
  {
   "cell_type": "code",
   "execution_count": 17,
   "id": "fd4f74c8-cad8-4b3b-b3c3-f87ec682820e",
   "metadata": {},
   "outputs": [
    {
     "data": {
      "text/plain": [
       "filteredDF: org.apache.spark.sql.Dataset[org.apache.spark.sql.Row] = [title: string, author: string ... 3 more fields]\r\n"
      ]
     },
     "execution_count": 17,
     "metadata": {},
     "output_type": "execute_result"
    }
   ],
   "source": [
    "val filteredDF = dfCsv.where($\"sales\" > 3000)"
   ]
  },
  {
   "cell_type": "code",
   "execution_count": 18,
   "id": "41344438-d738-4c1d-91a2-d258d2cd49c0",
   "metadata": {},
   "outputs": [
    {
     "name": "stdout",
     "output_type": "stream",
     "text": [
      "+--------------------+--------------------+--------------------+------+-----------+\n",
      "|               title|              author|               genre| sales|  year;;;;;|\n",
      "+--------------------+--------------------+--------------------+------+-----------+\n",
      "|           \"\"\"1984\"\"|   \"\"George Orwell\"\"| \"\"Science Fiction\"\"|5000.0| 1949\";;;;;|\n",
      "|\"\"\"To Kill a Mock...|      \"\"Harper Lee\"\"| \"\"Southern Gothic\"\"|4000.0| 1960\";;;;;|\n",
      "|\"\"\"The Great Gats...| \"\"F. Scott Fitzg...|           \"\"Novel\"\"|4500.0| 1925\";;;;;|\n",
      "+--------------------+--------------------+--------------------+------+-----------+\n",
      "\n"
     ]
    }
   ],
   "source": [
    "filteredDF.show()"
   ]
  },
  {
   "cell_type": "code",
   "execution_count": 19,
   "id": "d975ce6d-b746-4b8b-9a8b-55a8d5b1246f",
   "metadata": {},
   "outputs": [
    {
     "data": {
      "text/plain": [
       "groupedDF: org.apache.spark.sql.DataFrame = [genre: string, sum(sales): double]\r\n"
      ]
     },
     "execution_count": 19,
     "metadata": {},
     "output_type": "execute_result"
    }
   ],
   "source": [
    "val groupedDF = filteredDF.groupBy(\"genre\").agg(sum(\"sales\"))"
   ]
  },
  {
   "cell_type": "code",
   "execution_count": 20,
   "id": "79b9ed39-7e0b-4fbc-8e4d-0454848abd81",
   "metadata": {},
   "outputs": [
    {
     "name": "stdout",
     "output_type": "stream",
     "text": [
      "+--------------------+----------+\n",
      "|               genre|sum(sales)|\n",
      "+--------------------+----------+\n",
      "| \"\"Southern Gothic\"\"|    4000.0|\n",
      "|           \"\"Novel\"\"|    4500.0|\n",
      "| \"\"Science Fiction\"\"|    5000.0|\n",
      "+--------------------+----------+\n",
      "\n"
     ]
    }
   ],
   "source": [
    "groupedDF.show()"
   ]
  },
  {
   "cell_type": "code",
   "execution_count": 21,
   "id": "5a5f2dd8-f49e-4d4a-b7ce-12e10325d881",
   "metadata": {},
   "outputs": [
    {
     "data": {
      "text/plain": [
       "sortedDF: org.apache.spark.sql.Dataset[org.apache.spark.sql.Row] = [genre: string, sum(sales): double]\r\n"
      ]
     },
     "execution_count": 21,
     "metadata": {},
     "output_type": "execute_result"
    }
   ],
   "source": [
    "val sortedDF = groupedDF.sort(desc(\"sum(sales)\"))"
   ]
  },
  {
   "cell_type": "code",
   "execution_count": 22,
   "id": "5a969b15-4d09-476e-bc37-91969bc90101",
   "metadata": {},
   "outputs": [
    {
     "name": "stdout",
     "output_type": "stream",
     "text": [
      "+--------------------+----------+\n",
      "|               genre|sum(sales)|\n",
      "+--------------------+----------+\n",
      "| \"\"Science Fiction\"\"|    5000.0|\n",
      "|           \"\"Novel\"\"|    4500.0|\n",
      "| \"\"Southern Gothic\"\"|    4000.0|\n",
      "+--------------------+----------+\n",
      "\n"
     ]
    }
   ],
   "source": [
    "sortedDF.show()"
   ]
  },
  {
   "cell_type": "code",
   "execution_count": null,
   "id": "1e77ad8a-d87e-4389-b831-95cc84cc6826",
   "metadata": {},
   "outputs": [],
   "source": []
  }
 ],
 "metadata": {
  "kernelspec": {
   "display_name": "spylon-kernel",
   "language": "scala",
   "name": "spylon-kernel"
  },
  "language_info": {
   "codemirror_mode": "text/x-scala",
   "file_extension": ".scala",
   "help_links": [
    {
     "text": "MetaKernel Magics",
     "url": "https://metakernel.readthedocs.io/en/latest/source/README.html"
    }
   ],
   "mimetype": "text/x-scala",
   "name": "scala",
   "pygments_lexer": "scala",
   "version": "0.4.1"
  }
 },
 "nbformat": 4,
 "nbformat_minor": 5
}
