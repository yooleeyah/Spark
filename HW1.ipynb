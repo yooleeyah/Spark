{
  "nbformat": 4,
  "nbformat_minor": 0,
  "metadata": {
    "colab": {
      "provenance": []
    },
    "kernelspec": {
      "name": "python3",
      "display_name": "Python 3"
    },
    "language_info": {
      "name": "python"
    }
  },
  "cells": [
    {
      "cell_type": "markdown",
      "source": [
        "# ДЗ: Найти самую длинную последовательность упорядоченных чисел в RDD и вывести её"
      ],
      "metadata": {
        "id": "JHXVytuTGGvY"
      }
    },
    {
      "cell_type": "code",
      "source": [
        "!pip install pyspark"
      ],
      "metadata": {
        "id": "y8rwmLA92gkg"
      },
      "execution_count": null,
      "outputs": []
    },
    {
      "cell_type": "code",
      "source": [
        "import pyspark\n",
        "from pyspark import SparkContext"
      ],
      "metadata": {
        "id": "znlI6hQ32XOW"
      },
      "execution_count": 5,
      "outputs": []
    },
    {
      "cell_type": "code",
      "source": [
        "sc = SparkContext(\"local\", \"LongestSequence\")"
      ],
      "metadata": {
        "id": "EeifQCQ84Q_o"
      },
      "execution_count": 15,
      "outputs": []
    },
    {
      "cell_type": "code",
      "source": [
        "seqs = [[49, 89, 49], [21, 57, 16, 30, 77, 45, 57, 65, 49], [39, 86, 99, 36, 95, 13, 41, 79]]\n",
        "for i in range(len(seqs)):\n",
        "  seqs[i].sort()\n",
        "seqs_rdd = sc.parallelize(seqs)\n",
        "longest_seq = seqs_rdd.max(key=lambda x: len(x))\n",
        "print(\"Самая длинная последовательность: \", longest_seq)"
      ],
      "metadata": {
        "colab": {
          "base_uri": "https://localhost:8080/"
        },
        "id": "XYmdZJyU1OFx",
        "outputId": "030ea77a-050b-4212-d117-4b6eba3c074a"
      },
      "execution_count": 21,
      "outputs": [
        {
          "output_type": "stream",
          "name": "stdout",
          "text": [
            "Самая длинная последовательность:  [16, 21, 30, 45, 49, 57, 57, 65, 77]\n"
          ]
        }
      ]
    },
    {
      "cell_type": "code",
      "source": [
        "sc.stop()"
      ],
      "metadata": {
        "id": "vBIVM3Hj4Dn2"
      },
      "execution_count": 23,
      "outputs": []
    },
    {
      "cell_type": "code",
      "source": [],
      "metadata": {
        "id": "w78mk-Oj5niq"
      },
      "execution_count": null,
      "outputs": []
    }
  ]
}